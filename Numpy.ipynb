{
 "cells": [
  {
   "cell_type": "markdown",
   "metadata": {},
   "source": [
    "### Numpy \n",
    "\n",
    "An open source Python library that is the universal standard for working with numerical data in Python\n",
    "- Contains nd array and matrix data structures "
   ]
  },
  {
   "cell_type": "code",
   "execution_count": 2,
   "metadata": {},
   "outputs": [],
   "source": [
    "# packages required\n",
    "import numpy as np "
   ]
  },
  {
   "cell_type": "markdown",
   "metadata": {},
   "source": [
    "What's the difference between a Python list and a np array?\n",
    "- Python list can contain different data types, but np arrays have to be homogenous \n",
    "- Math operations on arrays would be extremely inefficient if the arrays aren't homogenous\n",
    "- np arrays are faster and more compact than Python lists, consumes less memory, and is convenient to use"
   ]
  },
  {
   "cell_type": "markdown",
   "metadata": {},
   "source": [
    "What's an array \n",
    "- An array is a central data structure of the np library. It is a grid of values that contains: \n",
    "    - Data values \n",
    "    - Index (how to locate an element)\n",
    "    - How to interpret an element"
   ]
  },
  {
   "cell_type": "code",
   "execution_count": 42,
   "metadata": {},
   "outputs": [],
   "source": [
    "# init an array by passing a Python list\n",
    "arr = np.array([1,2,3,4,5]) # 1D array (vector)\n",
    "\n",
    "# or a list of lists > 2D array (matrix)\n",
    "arr2 = np.array([[1,2,3,4], [5,6,7,8], [9,10,11,12]])"
   ]
  },
  {
   "cell_type": "code",
   "execution_count": 35,
   "metadata": {},
   "outputs": [
    {
     "name": "stdout",
     "output_type": "stream",
     "text": [
      "[0. 0. 0. 0.]\n",
      "[1. 1. 1. 1.]\n",
      "[1.48539705e-313 1.06099790e-313]\n",
      "[[7 7]\n",
      " [7 7]]\n"
     ]
    }
   ],
   "source": [
    "# create an array filled with 0s\n",
    "print(np.zeros(4))\n",
    "# filled with 1's\n",
    "print(np.ones(4))\n",
    "# or empty\n",
    "print(np.empty(2))\n",
    "\n",
    "# or just about any value required \n",
    "print(np.full((2,2), 7))"
   ]
  },
  {
   "cell_type": "markdown",
   "metadata": {},
   "source": [
    "Use np.arange to create an array of a range of elements \n",
    "- stop value is exclusive "
   ]
  },
  {
   "cell_type": "code",
   "execution_count": 44,
   "metadata": {},
   "outputs": [
    {
     "name": "stdout",
     "output_type": "stream",
     "text": [
      "[0 1 2 3]\n",
      "[2 4 6 8]\n"
     ]
    }
   ],
   "source": [
    "# create an array with a range of elements, equally spaced \n",
    "print(np.arange(4))\n",
    "\n",
    "# arange also allows for start stop and step specifics\n",
    "print(np.arange(2,9,2))"
   ]
  },
  {
   "cell_type": "markdown",
   "metadata": {},
   "source": [
    "Create a 1d array with 10 equally spaced values "
   ]
  },
  {
   "cell_type": "code",
   "execution_count": 45,
   "metadata": {},
   "outputs": [
    {
     "data": {
      "text/plain": [
       "array([ 1. ,  2.5,  4. ,  5.5,  7. ,  8.5, 10. ])"
      ]
     },
     "execution_count": 45,
     "metadata": {},
     "output_type": "execute_result"
    }
   ],
   "source": [
    "# use linspace (linear space) to specify the number of equally spaced values to create\n",
    "np.linspace(1, 10, 7)"
   ]
  },
  {
   "cell_type": "code",
   "execution_count": 46,
   "metadata": {},
   "outputs": [
    {
     "data": {
      "text/plain": [
       "array([1, 1], dtype=int64)"
      ]
     },
     "execution_count": 46,
     "metadata": {},
     "output_type": "execute_result"
    }
   ],
   "source": [
    "# specifying your data type \n",
    "# default is floating point (np.float64)\n",
    "# explicit specify using dtype kw\n",
    "\n",
    "np.ones(2, dtype = np.int64)"
   ]
  },
  {
   "cell_type": "markdown",
   "metadata": {},
   "source": [
    "Adding, removing and sorting elements \n",
    "- Removing elements is as simple as creating a new array via indexing "
   ]
  },
  {
   "cell_type": "code",
   "execution_count": 47,
   "metadata": {},
   "outputs": [
    {
     "data": {
      "text/plain": [
       "array([1, 2, 3, 4, 5, 6, 7, 8])"
      ]
     },
     "execution_count": 47,
     "metadata": {},
     "output_type": "execute_result"
    }
   ],
   "source": [
    "arr = np.array([2, 1, 5, 3, 7, 4, 6, 8])\n",
    "# sort the elements in ascending order \n",
    "\n",
    "sorted_arr = np.sort(arr)\n",
    "sorted_arr"
   ]
  },
  {
   "cell_type": "code",
   "execution_count": 48,
   "metadata": {},
   "outputs": [
    {
     "data": {
      "text/plain": [
       "array([1, 2, 3, 4, 5, 6, 7, 8])"
      ]
     },
     "execution_count": 48,
     "metadata": {},
     "output_type": "execute_result"
    }
   ],
   "source": [
    "a = np.arange(1, 5)\n",
    "b = np.arange(5, 9)\n",
    "\n",
    "# concatenate them \n",
    "ab = np.concatenate((a, b))\n",
    "ab"
   ]
  },
  {
   "cell_type": "code",
   "execution_count": 49,
   "metadata": {},
   "outputs": [
    {
     "data": {
      "text/plain": [
       "array([[1, 2],\n",
       "       [3, 4],\n",
       "       [5, 6]])"
      ]
     },
     "execution_count": 49,
     "metadata": {},
     "output_type": "execute_result"
    }
   ],
   "source": [
    "# if you start with 2d arrays \n",
    "x = np.array([[1, 2], [3, 4]])\n",
    "y = np.array([[5, 6]])\n",
    "\n",
    "xy = np.concatenate((x, y), axis = 0) # axis = 0 for rows\n",
    "xy"
   ]
  },
  {
   "cell_type": "markdown",
   "metadata": {},
   "source": [
    "Getting the shape and size of an array \n"
   ]
  },
  {
   "cell_type": "code",
   "execution_count": 39,
   "metadata": {},
   "outputs": [
    {
     "name": "stdout",
     "output_type": "stream",
     "text": [
      "2\n",
      "6\n",
      "(2, 3)\n"
     ]
    }
   ],
   "source": [
    "# n.dim tells you the # of axes (dimensions) of the array\n",
    "a = np.array([[5,10,15],[20,25,20]])\n",
    "print(a.ndim)\n",
    "\n",
    "# ndarray.size total # of elements in the array\n",
    "print(a.size)\n",
    "\n",
    "# ndarray.shape no. of elements stored in each d; for 2d > rows and cols \n",
    "print(a.shape)"
   ]
  },
  {
   "cell_type": "code",
   "execution_count": null,
   "metadata": {},
   "outputs": [],
   "source": [
    "arr = np.array([[[1,2,3,4], \n",
    "                 [5,6,7,8]],\n",
    "               \n",
    "                [[1,2,3,4], \n",
    "                 [5,6,7,8]],\n",
    "               \n",
    "                [[1,2,3,4], \n",
    "                 [5,6,7,8]]])\n",
    "\n",
    "arr.ndim, arr.size, arr.shape"
   ]
  },
  {
   "cell_type": "markdown",
   "metadata": {},
   "source": [
    "#### Reshaping an array\n",
    "- Using arr.reshape() will give a new shape to an array w/o changing the data"
   ]
  },
  {
   "cell_type": "code",
   "execution_count": null,
   "metadata": {},
   "outputs": [],
   "source": [
    "a = np.arange(6)\n",
    "print(a)\n",
    "\n",
    "# reshape array with 3 rows and 2 cols\n",
    "b = a.reshape(3, 2)\n",
    "print(b)\n",
    "\n",
    "# np.reshape has a few optional args\n",
    "np.reshape(a, newshape = (1, 6), order = 'C')\n",
    "# order: read/write elements using C-like index order (F fortran)"
   ]
  },
  {
   "cell_type": "markdown",
   "metadata": {},
   "source": [
    "#### How to convert a 1D array into a 2D array (adding a new axis to an array)"
   ]
  },
  {
   "cell_type": "code",
   "execution_count": null,
   "metadata": {},
   "outputs": [],
   "source": [
    "a = np.arange(1, 7)\n",
    "a.shape # (6,)\n",
    "\n",
    "# us np.newaxis to add a new axis \n",
    "a2 = a[np.newaxis, :]\n",
    "a2.shape"
   ]
  },
  {
   "cell_type": "code",
   "execution_count": 52,
   "metadata": {},
   "outputs": [
    {
     "name": "stdout",
     "output_type": "stream",
     "text": [
      "(1, 6)\n",
      "(6, 1)\n"
     ]
    }
   ],
   "source": [
    "a = np.arange(1, 7)\n",
    "a.shape # (6,)\n",
    "\n",
    "# explicitly convert a 1D array with row/col vector using np.newaxis\n",
    "row_vector = a[np.newaxis, :]\n",
    "print(row_vector.shape)\n",
    "\n",
    "# for col vector\n",
    "col_vector = a[:, np.newaxis]\n",
    "print(col_vector.shape)"
   ]
  },
  {
   "cell_type": "markdown",
   "metadata": {},
   "source": [
    "#### Indexing and slicing \n",
    "- Index and slice np arrays in the same way as Python lists"
   ]
  },
  {
   "cell_type": "code",
   "execution_count": 43,
   "metadata": {},
   "outputs": [
    {
     "name": "stdout",
     "output_type": "stream",
     "text": [
      "2\n",
      "[1 2]\n",
      "[2 3]\n",
      "[2 4]\n",
      "[1 2 3 4]\n",
      "[ 5  6  7  8  9 10 11 12]\n"
     ]
    }
   ],
   "source": [
    "data = np.array([1, 2, 3])\n",
    "\n",
    "print(data[1])\n",
    "print(data[:2])\n",
    "print(data[-2:])\n",
    "\n",
    "a = np.array([1, 2, 3, 4, 5, 6])\n",
    "print(a[1:5:2])\n",
    "\n",
    "# conditional slicing\n",
    "a = np.array([[1, 2, 3, 4], [5, 6, 7, 8], [9, 10, 11, 12]])\n",
    "print(a[a < 5])\n",
    "print(a[a >= 5])"
   ]
  },
  {
   "cell_type": "code",
   "execution_count": 60,
   "metadata": {},
   "outputs": [
    {
     "name": "stdout",
     "output_type": "stream",
     "text": [
      "(array([0, 0, 0, 0], dtype=int64), array([0, 1, 2, 3], dtype=int64))\n",
      "(0, 0)\n",
      "(0, 1)\n",
      "(0, 2)\n",
      "(0, 3)\n"
     ]
    }
   ],
   "source": [
    "# starting with this array:\n",
    "a = np.array([[1, 2, 3, 4], [5, 6, 7, 8], [9, 10, 11, 12]])\n",
    "\n",
    "# you can use np.nonzero() to print the indices of elements that meet a condition\n",
    "b = np.nonzero(a < 5)\n",
    "print(b) # returns a tuple of arrays: one for each dimension\n",
    "\n",
    "# to generate the coordinates\n",
    "for coord in zip(b[0], b[1]):\n",
    "    print(coord)\n"
   ]
  },
  {
   "cell_type": "markdown",
   "metadata": {},
   "source": [
    "#### Slicing 2d arrays \n"
   ]
  },
  {
   "cell_type": "code",
   "execution_count": null,
   "metadata": {},
   "outputs": [],
   "source": [
    "# retrieving an element from a 2d array "
   ]
  },
  {
   "cell_type": "code",
   "execution_count": null,
   "metadata": {},
   "outputs": [],
   "source": []
  },
  {
   "cell_type": "markdown",
   "metadata": {},
   "source": [
    "#### Slicing 3d arrays\n",
    "- This is a visualisation of what a 3d array looks like \n"
   ]
  },
  {
   "cell_type": "code",
   "execution_count": null,
   "metadata": {},
   "outputs": [],
   "source": []
  },
  {
   "cell_type": "markdown",
   "metadata": {},
   "source": [
    "Create an array from existing data "
   ]
  },
  {
   "cell_type": "code",
   "execution_count": 65,
   "metadata": {},
   "outputs": [
    {
     "name": "stdout",
     "output_type": "stream",
     "text": [
      "[1 2 3 4 5]\n",
      "[[1 1]\n",
      " [2 2]\n",
      " [3 3]\n",
      " [4 4]]\n",
      "[[1 1 3 3]\n",
      " [2 2 4 4]]\n"
     ]
    }
   ],
   "source": [
    "# You can easily create a new array from a section of an existing array\n",
    "a = np.array([1,  2,  3,  4,  5,  6,  7,  8,  9, 10])\n",
    "arr1 = a[:5]\n",
    "print(arr1)\n",
    "\n",
    "# you can also stack 2 existing arrays, vertically and horizontally\n",
    "a1 = np.array([[1, 1],\n",
    "               [2, 2]])\n",
    "a2 = np.array([[3, 3], \n",
    "               [4, 4]])\n",
    "\n",
    "# stack vertically with vstack:\n",
    "print(np.vstack((a1, a2)))\n",
    "\n",
    "# stack horizontally with hstack \n",
    "print(np.hstack((a1, a2)))"
   ]
  },
  {
   "cell_type": "code",
   "execution_count": 69,
   "metadata": {},
   "outputs": [
    {
     "name": "stdout",
     "output_type": "stream",
     "text": [
      "[[ 1  2  3  4  5  6  7  8  9 10 11 12]\n",
      " [13 14 15 16 17 18 19 20 21 22 23 24]]\n",
      "[array([[ 1,  2,  3,  4],\n",
      "       [13, 14, 15, 16]]), array([[ 5,  6,  7,  8],\n",
      "       [17, 18, 19, 20]]), array([[ 9, 10, 11, 12],\n",
      "       [21, 22, 23, 24]])]\n",
      "[array([[ 1,  2,  3],\n",
      "       [13, 14, 15]]), array([[ 4],\n",
      "       [16]]), array([[ 5,  6,  7,  8,  9, 10, 11, 12],\n",
      "       [17, 18, 19, 20, 21, 22, 23, 24]])]\n"
     ]
    }
   ],
   "source": [
    "# split an array into subarrays using hsplit\n",
    "x = np.arange(1, 25).reshape(2, 12)\n",
    "print(x)\n",
    "\n",
    "# split into 3 different arrays\n",
    "print(np.hsplit(x, 3))\n",
    "\n",
    "# split after the 3rd and 4th column \n",
    "print(np.hsplit(x, (3, 4)))"
   ]
  },
  {
   "cell_type": "markdown",
   "metadata": {},
   "source": [
    "Create an identity matrix \n",
    "\n"
   ]
  },
  {
   "cell_type": "code",
   "execution_count": 36,
   "metadata": {},
   "outputs": [
    {
     "data": {
      "text/plain": [
       "array([[1., 0., 0.],\n",
       "       [0., 1., 0.],\n",
       "       [0., 0., 1.]])"
      ]
     },
     "execution_count": 36,
     "metadata": {},
     "output_type": "execute_result"
    }
   ],
   "source": [
    "arr = np.eye(3)\n",
    "arr"
   ]
  },
  {
   "cell_type": "markdown",
   "metadata": {},
   "source": [
    "You can use the view method to create a new array object that is a shallow copy of the orig arr\n",
    "- Views are an impt numpy concept as mod data == mod the orig arr"
   ]
  },
  {
   "cell_type": "code",
   "execution_count": 72,
   "metadata": {},
   "outputs": [
    {
     "name": "stdout",
     "output_type": "stream",
     "text": [
      "[1 2 3 4]\n",
      "[[99  2  3  4]\n",
      " [ 5  6  7  8]\n",
      " [ 9 10 11 12]]\n"
     ]
    }
   ],
   "source": [
    "a = np.array([[1, 2, 3, 4], [5, 6, 7, 8], [9, 10, 11, 12]])\n",
    "\n",
    "# b1 is a slice of a\n",
    "b1 = a[0, :]\n",
    "print(b1)\n",
    "\n",
    "# modifying first element of b1\n",
    "b1[0] = 99 \n",
    "\n",
    "# this modifies a as well\n",
    "print(a)\n",
    "\n",
    "# to prevent this, use the copy method which will create a deep copy of the array\n",
    "b2 = a.copy()"
   ]
  },
  {
   "cell_type": "markdown",
   "metadata": {},
   "source": [
    "Basic Array Operations "
   ]
  },
  {
   "cell_type": "code",
   "execution_count": 78,
   "metadata": {},
   "outputs": [
    {
     "name": "stdout",
     "output_type": "stream",
     "text": [
      "[2 3]\n",
      "[1 2]\n",
      "[0 1]\n",
      "[1. 1.]\n"
     ]
    }
   ],
   "source": [
    "data = np.array([1, 2])\n",
    "ones = np.ones(2, dtype = int)\n",
    "\n",
    "# add them together \n",
    "print(data + ones)\n",
    "# multiply \n",
    "print(data * ones)\n",
    "# subtract \n",
    "print(data - ones)\n",
    "# divide\n",
    "print(data / data)"
   ]
  },
  {
   "cell_type": "code",
   "execution_count": 84,
   "metadata": {},
   "outputs": [
    {
     "data": {
      "text/plain": [
       "array([3, 3])"
      ]
     },
     "execution_count": 84,
     "metadata": {},
     "output_type": "execute_result"
    }
   ],
   "source": [
    "# call sum method on a 1D array\n",
    "a = np.array([1, 2, 3, 4])\n",
    "a.sum()\n",
    "\n",
    "# to add the rows/cols in a 2D array, specify the axis\n",
    "b = np.array([[1, 1], [2, 2]])\n",
    "b.sum(axis = 0) # rows \n",
    "b.sum(axis = 1) # columns \n"
   ]
  },
  {
   "cell_type": "markdown",
   "metadata": {},
   "source": [
    "#### Broadcasting \n",
    "- Operation between a vector and a scalar "
   ]
  },
  {
   "cell_type": "code",
   "execution_count": 88,
   "metadata": {},
   "outputs": [
    {
     "data": {
      "text/plain": [
       "array([1.6, 3.2])"
      ]
     },
     "execution_count": 88,
     "metadata": {},
     "output_type": "execute_result"
    }
   ],
   "source": [
    "data = np.array([1, 2], dtype = np.float64)\n",
    "data * 1.6"
   ]
  },
  {
   "cell_type": "markdown",
   "metadata": {},
   "source": [
    "#### Numpy also performs agg functions"
   ]
  },
  {
   "cell_type": "code",
   "execution_count": 89,
   "metadata": {},
   "outputs": [
    {
     "data": {
      "text/plain": [
       "(2.0, 1.0, 3.0)"
      ]
     },
     "execution_count": 89,
     "metadata": {},
     "output_type": "execute_result"
    }
   ],
   "source": [
    "data = np.array([1, 2], dtype = np.float64)\n",
    "data.max(), data.min(), data.sum()"
   ]
  },
  {
   "cell_type": "code",
   "execution_count": 92,
   "metadata": {},
   "outputs": [
    {
     "data": {
      "text/plain": [
       "array([1.12378257, 1.04875507, 1.01034462, 1.67669614])"
      ]
     },
     "execution_count": 92,
     "metadata": {},
     "output_type": "execute_result"
    }
   ],
   "source": [
    "# agg across a row/col is a common use case\n",
    "a = np.array([[0.45053314, 0.17296777, 0.34376245, 0.5510652],\n",
    "               [0.54627315, 0.05093587, 0.40067661, 0.55645993],\n",
    "               [0.12697628, 0.82485143, 0.26590556, 0.56917101]])\n",
    "\n",
    "a.sum(), a.min()\n",
    "\n",
    "# you can specify the agg function along which axis \n",
    "a.sum(axis = 0)"
   ]
  },
  {
   "cell_type": "markdown",
   "metadata": {},
   "source": [
    "#### Creating matrices \n",
    "- Pass a list of lists to create a 2D array (or matrix)"
   ]
  },
  {
   "cell_type": "code",
   "execution_count": 95,
   "metadata": {},
   "outputs": [
    {
     "data": {
      "text/plain": [
       "array([4, 6, 8])"
      ]
     },
     "execution_count": 95,
     "metadata": {},
     "output_type": "execute_result"
    }
   ],
   "source": [
    "data = np.array([[1, 2, 3], [3, 4, 5]])\n",
    "data.shape\n",
    "\n",
    "# agg the whole matrix by not specifying an axis, or do row/col-wise agg with axis arg\n",
    "data.sum(axis = 0)"
   ]
  },
  {
   "cell_type": "code",
   "execution_count": 97,
   "metadata": {},
   "outputs": [
    {
     "data": {
      "text/plain": [
       "array([[2, 3],\n",
       "       [4, 5],\n",
       "       [6, 7]])"
      ]
     },
     "execution_count": 97,
     "metadata": {},
     "output_type": "execute_result"
    }
   ],
   "source": [
    "# add and multiply the matrices the same way \n",
    "data = np.array([[1, 2], [3, 4]])\n",
    "ones = np.array([[1, 1], [1, 1]])\n",
    "data + ones \n",
    "\n",
    "# broadcasting rules work here with 1 row / col matrices \n",
    "data = np.array([[1, 2], [3, 4], [5, 6]])\n",
    "ones_row = np.array([[1]])\n",
    "data + ones_row"
   ]
  },
  {
   "cell_type": "markdown",
   "metadata": {},
   "source": [
    "There are instances where we want numpy to init the values of an array \n",
    "- numpy offers ones(), zeros() and the random.Generator class for rng "
   ]
  },
  {
   "cell_type": "code",
   "execution_count": 98,
   "metadata": {},
   "outputs": [
    {
     "name": "stdout",
     "output_type": "stream",
     "text": [
      "[1. 1. 1.] [0. 0. 0.] [0.63696169 0.26978671 0.04097352]\n"
     ]
    }
   ],
   "source": [
    "# pass in the # of elements to generate\n",
    "ones = np.ones(3)\n",
    "zeros = np.zeros(3)\n",
    "randoms = np.random.default_rng(0).random(3)\n",
    "\n",
    "print(ones, zeros, randoms)"
   ]
  },
  {
   "cell_type": "code",
   "execution_count": 100,
   "metadata": {},
   "outputs": [
    {
     "name": "stdout",
     "output_type": "stream",
     "text": [
      "[[1. 1.]\n",
      " [1. 1.]\n",
      " [1. 1.]] [[0. 0.]\n",
      " [0. 0.]\n",
      " [0. 0.]] [[0.63696169 0.26978671]\n",
      " [0.04097352 0.01652764]\n",
      " [0.81327024 0.91275558]]\n"
     ]
    }
   ],
   "source": [
    "# create matrices with ones(), zeros() and random() by passing in a tuple\n",
    "m_ones = np.ones((3, 2))\n",
    "m_zeros = np.zeros((3, 2))\n",
    "m_randoms = np.random.default_rng(0).random((3, 2))\n",
    "\n",
    "print(m_ones, m_zeros, m_randoms)"
   ]
  },
  {
   "cell_type": "markdown",
   "metadata": {},
   "source": [
    "Generating random numbers \n",
    "- Essential part of the configuration and evaluation of many numerical and ML algos \n",
    "- Eg use cases: randomly init weights in an artificial neural network \n",
    "- split data into random sets \n",
    "- randomly shuffle your dataset "
   ]
  },
  {
   "cell_type": "code",
   "execution_count": 105,
   "metadata": {},
   "outputs": [
    {
     "name": "stdout",
     "output_type": "stream",
     "text": [
      "[[4 3 2 1]\n",
      " [1 0 0 0]]\n"
     ]
    }
   ],
   "source": [
    "# generate a 2x4 array of randints between 0 and 4 \n",
    "m_randints = np.random.default_rng(0).integers(5, size = (2, 4))\n",
    "print(m_randints)"
   ]
  },
  {
   "cell_type": "markdown",
   "metadata": {},
   "source": [
    "#### How to get unique items and counts \n",
    "(covers np.unique())\n",
    "- Tasks\n",
    "- Return the unique values of the array \n",
    "- Return the indices of unique values of the array\n",
    "- Return the occurrence counts of the array "
   ]
  },
  {
   "cell_type": "code",
   "execution_count": 7,
   "metadata": {},
   "outputs": [
    {
     "name": "stdout",
     "output_type": "stream",
     "text": [
      "[10 11 12 13 14 15 16 17 18 19 20]\n",
      "[ 0  1  3  5  6  7  8  9 11 12 13]\n",
      "[1 2 2 1 1 1 1 2 1 1 2]\n"
     ]
    }
   ],
   "source": [
    "# find the unique elements in an array easily with np.unique()\n",
    "a = np.array([10, 11, 11, 12, 12, 13, 14, 15, 16, 17, 17, 18, 19, 20, 20])\n",
    "\n",
    "unique_values = np.unique(a)\n",
    "print(unique_values)\n",
    "\n",
    "# pass return_index = True to get unique indices \n",
    "unique_values, indices_list = np.unique(a, return_index = True)\n",
    "print(indices_list)\n",
    "\n",
    "# pass return_counts = True to get occurrence counts \n",
    "unique_values, occurrence_counts = np.unique(a, return_counts = True)\n",
    "print(occurrence_counts)"
   ]
  },
  {
   "cell_type": "code",
   "execution_count": 11,
   "metadata": {},
   "outputs": [
    {
     "name": "stdout",
     "output_type": "stream",
     "text": [
      "[ 1  2  3  4  5  6  7  8  9 10 11 12]\n",
      "[[ 1  2  3  4]\n",
      " [ 5  6  7  8]\n",
      " [ 9 10 11 12]]\n",
      "[[ 1  2  3  4]\n",
      " [ 5  6  7  8]\n",
      " [ 9 10 11 12]\n",
      " [ 1  2  3  4]]\n"
     ]
    }
   ],
   "source": [
    "# also works with 2d arrays \n",
    "a_2d = np.array([[1, 2, 3, 4], [5, 6, 7, 8], [9, 10, 11, 12], [1, 2, 3, 4]])\n",
    "\n",
    "unique_values_2d = np.unique(a_2d)\n",
    "print(unique_values_2db\n",
    "\n",
    "# pass axis argument to filter unique rows/cols \n",
    "unique_values_rows = np.unique(a_2d, axis = 0)\n",
    "print(unique_values_rows)\n",
    "\n",
    "unique_values_cols = np.unique(a_2d, axis = 1)\n",
    "print(unique_values_cols)\n"
   ]
  },
  {
   "cell_type": "markdown",
   "metadata": {},
   "source": [
    "Transposing and reshaping a matrix \n",
    "- arr.reshape(), arr.transpose(), arr.T() "
   ]
  },
  {
   "attachments": {
    "image.png": {
     "image/png": "[encoded data removed]"
    }
   },
   "cell_type": "markdown",
   "metadata": {},
   "source": [
    "It is a common need to transpose matrices \n",
    "![image.png](attachment:image.png)"
   ]
  },
  {
   "cell_type": "code",
   "execution_count": 21,
   "metadata": {},
   "outputs": [
    {
     "name": "stdout",
     "output_type": "stream",
     "text": [
      "[[1 4]\n",
      " [2 5]\n",
      " [3 6]]\n"
     ]
    },
    {
     "data": {
      "text/plain": [
       "array([1, 2, 3, 4, 5, 6])"
      ]
     },
     "execution_count": 21,
     "metadata": {},
     "output_type": "execute_result"
    }
   ],
   "source": [
    "data = np.array([[1,2,3], [4,5,6]])\n",
    "\n",
    "# arr.T attribute or call arr.transpose() to transpose \n",
    "print(data.T)\n",
    "data.reshape(2, 3)\n",
    "data.reshape(6, )"
   ]
  },
  {
   "cell_type": "code",
   "execution_count": 25,
   "metadata": {},
   "outputs": [
    {
     "data": {
      "text/plain": [
       "array([[0, 3],\n",
       "       [1, 4],\n",
       "       [2, 5]])"
      ]
     },
     "execution_count": 25,
     "metadata": {},
     "output_type": "execute_result"
    }
   ],
   "source": [
    "# use transpose to reverse or change the axes of the array according to specified values \n",
    "arr = np.arange(6).reshape(2, 3)\n",
    "arr.transpose() \n",
    "\n",
    "\n",
    "\n"
   ]
  },
  {
   "cell_type": "markdown",
   "metadata": {},
   "source": [
    "Reverse arrays with np.flip()"
   ]
  },
  {
   "cell_type": "code",
   "execution_count": 30,
   "metadata": {},
   "outputs": [
    {
     "name": "stdout",
     "output_type": "stream",
     "text": [
      "[8 7 6 5 4 3 2 1]\n",
      "[[12 11 10  9]\n",
      " [ 8  7  6  5]\n",
      " [ 4  3  2  1]]\n",
      "[[ 9 10 11 12]\n",
      " [ 5  6  7  8]\n",
      " [ 1  2  3  4]]\n",
      "[[ 4  3  2  1]\n",
      " [ 8  7  6  5]\n",
      " [12 11 10  9]]\n"
     ]
    },
    {
     "data": {
      "text/plain": [
       "array([[ 1,  2,  3,  4],\n",
       "       [ 8,  7,  6,  5],\n",
       "       [ 9, 10, 11, 12]])"
      ]
     },
     "execution_count": 30,
     "metadata": {},
     "output_type": "execute_result"
    }
   ],
   "source": [
    "# 1d arrays \n",
    "arr = np.array([1, 2, 3, 4, 5, 6, 7, 8])\n",
    "rev_arr = np.flip(arr)\n",
    "print(rev_arr)\n",
    "\n",
    "# for 2d arrays, specify axis arg to flip by rows or columns only\n",
    "arr_2d = np.array([[1, 2, 3, 4], [5, 6, 7, 8], [9, 10, 11, 12]])\n",
    "rev_arr_2d = np.flip(arr_2d)\n",
    "rev_arr_rows = np.flip(arr_2d, axis = 0)\n",
    "rev_arr_cols = np.flip(arr_2d, axis = 1)\n",
    "\n",
    "print(rev_arr_2d)\n",
    "print(rev_arr_rows)\n",
    "print(rev_arr_cols)\n",
    "\n",
    "# or reverse *only* one row \n",
    "arr_2d[1] = np.flip(arr_2d[1])\n",
    "arr_2d"
   ]
  },
  {
   "cell_type": "markdown",
   "metadata": {},
   "source": [
    "Reshaping / flattening multi-dimensional arrays\n",
    "- .flatten(), ravel()"
   ]
  },
  {
   "cell_type": "code",
   "execution_count": 34,
   "metadata": {},
   "outputs": [
    {
     "data": {
      "text/plain": [
       "array([[ 1,  2,  3,  4],\n",
       "       [ 5,  6,  7,  8],\n",
       "       [ 9, 10, 11, 12]])"
      ]
     },
     "execution_count": 34,
     "metadata": {},
     "output_type": "execute_result"
    }
   ],
   "source": [
    "x = np.array([[1, 2, 3, 4], [5, 6, 7, 8], [9, 10, 11, 12]])\n",
    "\n",
    "# use flatten to change to 1d array\n",
    "# flatten creates a copy of the original while ravel creates a reference to the original\n",
    "x.flatten() \n",
    "\n",
    "# this can also be thought of as a shallow copy vs deep copy\n",
    "x.ravel()\n",
    "x "
   ]
  },
  {
   "cell_type": "markdown",
   "metadata": {},
   "source": [
    "Expanding and squeezing a np.array \n",
    "- np.expand_dims(), np.squeeze()"
   ]
  },
  {
   "cell_type": "code",
   "execution_count": 40,
   "metadata": {
    "collapsed": true
   },
   "outputs": [
    {
     "data": {
      "text/plain": [
       "(array([1, 2, 3]),\n",
       " array([[1, 2, 3]]),\n",
       " array([[1],\n",
       "        [2],\n",
       "        [3]]))"
      ]
     },
     "execution_count": 40,
     "metadata": {},
     "output_type": "execute_result"
    }
   ],
   "source": [
    "# add a new axis using expand_dims()\n",
    "a = np.array([1,2,3])\n",
    "b = np.expand_dims(a, axis = 0) # expand along cols \n",
    "c = np.expand_dims(a, axis = 1) # expand along rows "
   ]
  },
  {
   "cell_type": "code",
   "execution_count": 42,
   "metadata": {},
   "outputs": [
    {
     "ename": "ValueError",
     "evalue": "cannot select an axis to squeeze out which has size not equal to one",
     "output_type": "error",
     "traceback": [
      "\u001b[1;31m---------------------------------------------------------------------------\u001b[0m",
      "\u001b[1;31mValueError\u001b[0m                                Traceback (most recent call last)",
      "\u001b[1;32m<ipython-input-42-1130486a29d9>\u001b[0m in \u001b[0;36m<module>\u001b[1;34m\u001b[0m\n\u001b[0;32m      5\u001b[0m \u001b[1;33m\u001b[0m\u001b[0m\n\u001b[0;32m      6\u001b[0m \u001b[1;31m# further calling squeeze however results in an error\u001b[0m\u001b[1;33m\u001b[0m\u001b[1;33m\u001b[0m\u001b[1;33m\u001b[0m\u001b[0m\n\u001b[1;32m----> 7\u001b[1;33m \u001b[0mc\u001b[0m \u001b[1;33m=\u001b[0m \u001b[0mnp\u001b[0m\u001b[1;33m.\u001b[0m\u001b[0msqueeze\u001b[0m\u001b[1;33m(\u001b[0m\u001b[0mb\u001b[0m\u001b[1;33m,\u001b[0m \u001b[0maxis\u001b[0m \u001b[1;33m=\u001b[0m \u001b[1;36m0\u001b[0m\u001b[1;33m)\u001b[0m\u001b[1;33m\u001b[0m\u001b[1;33m\u001b[0m\u001b[0m\n\u001b[0m\u001b[0;32m      8\u001b[0m \u001b[0mc\u001b[0m\u001b[1;33m\u001b[0m\u001b[1;33m\u001b[0m\u001b[0m\n",
      "\u001b[1;32m<__array_function__ internals>\u001b[0m in \u001b[0;36msqueeze\u001b[1;34m(*args, **kwargs)\u001b[0m\n",
      "\u001b[1;32mC:\\ProgramData\\Anaconda3\\lib\\site-packages\\numpy\\core\\fromnumeric.py\u001b[0m in \u001b[0;36msqueeze\u001b[1;34m(a, axis)\u001b[0m\n\u001b[0;32m   1481\u001b[0m         \u001b[1;32mreturn\u001b[0m \u001b[0msqueeze\u001b[0m\u001b[1;33m(\u001b[0m\u001b[1;33m)\u001b[0m\u001b[1;33m\u001b[0m\u001b[1;33m\u001b[0m\u001b[0m\n\u001b[0;32m   1482\u001b[0m     \u001b[1;32melse\u001b[0m\u001b[1;33m:\u001b[0m\u001b[1;33m\u001b[0m\u001b[1;33m\u001b[0m\u001b[0m\n\u001b[1;32m-> 1483\u001b[1;33m         \u001b[1;32mreturn\u001b[0m \u001b[0msqueeze\u001b[0m\u001b[1;33m(\u001b[0m\u001b[0maxis\u001b[0m\u001b[1;33m=\u001b[0m\u001b[0maxis\u001b[0m\u001b[1;33m)\u001b[0m\u001b[1;33m\u001b[0m\u001b[1;33m\u001b[0m\u001b[0m\n\u001b[0m\u001b[0;32m   1484\u001b[0m \u001b[1;33m\u001b[0m\u001b[0m\n\u001b[0;32m   1485\u001b[0m \u001b[1;33m\u001b[0m\u001b[0m\n",
      "\u001b[1;31mValueError\u001b[0m: cannot select an axis to squeeze out which has size not equal to one"
     ]
    }
   ],
   "source": [
    "# reduce the number of axes using squeeze() \n",
    "a = np.array([[[1,2,3], [4,5,6]]]) # 3d to 2d array \n",
    "b = np.squeeze(a, axis = 0) \n",
    "b # 2d array \n",
    "\n",
    "# further calling squeeze however results in an error \n",
    "c = np.squeeze(b, axis = 0)\n",
    "c"
   ]
  },
  {
   "cell_type": "code",
   "execution_count": null,
   "metadata": {},
   "outputs": [],
   "source": []
  },
  {
   "cell_type": "code",
   "execution_count": null,
   "metadata": {},
   "outputs": [],
   "source": []
  },
  {
   "cell_type": "code",
   "execution_count": null,
   "metadata": {},
   "outputs": [],
   "source": []
  },
  {
   "cell_type": "code",
   "execution_count": null,
   "metadata": {},
   "outputs": [],
   "source": []
  },
  {
   "cell_type": "code",
   "execution_count": null,
   "metadata": {},
   "outputs": [],
   "source": []
  }
 ],
 "metadata": {
  "kernelspec": {
   "display_name": "Python 3",
   "language": "python",
   "name": "python3"
  },
  "language_info": {
   "codemirror_mode": {
    "name": "ipython",
    "version": 3
   },
   "file_extension": ".py",
   "mimetype": "text/x-python",
   "name": "python",
   "nbconvert_exporter": "python",
   "pygments_lexer": "ipython3",
   "version": "3.8.3"
  }
 },
 "nbformat": 4,
 "nbformat_minor": 4
}
