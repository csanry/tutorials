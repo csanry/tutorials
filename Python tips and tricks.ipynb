{
 "cells": [
  {
   "cell_type": "markdown",
   "metadata": {},
   "source": [
    "### Python tips and tricks to writing better code"
   ]
  },
  {
   "cell_type": "markdown",
   "metadata": {},
   "source": [
    "1) Ternary conditionals "
   ]
  },
  {
   "cell_type": "code",
   "execution_count": 2,
   "metadata": {},
   "outputs": [
    {
     "data": {
      "text/plain": [
       "0"
      ]
     },
     "execution_count": 2,
     "metadata": {},
     "output_type": "execute_result"
    }
   ],
   "source": [
    "# this can be retyped to be more pythonic\n",
    "condition = False \n",
    "\n",
    "if condition: \n",
    "    x = 1\n",
    "else: \n",
    "    x = 0\n",
    "\n",
    "x"
   ]
  },
  {
   "cell_type": "code",
   "execution_count": 3,
   "metadata": {},
   "outputs": [
    {
     "data": {
      "text/plain": [
       "0"
      ]
     },
     "execution_count": 3,
     "metadata": {},
     "output_type": "execute_result"
    }
   ],
   "source": [
    "condition = False\n",
    "x = 1 if condition else 0 \n",
    "x"
   ]
  },
  {
   "cell_type": "markdown",
   "metadata": {},
   "source": [
    "2) Underscores as separators to handle large numbers "
   ]
  },
  {
   "cell_type": "code",
   "execution_count": 5,
   "metadata": {},
   "outputs": [
    {
     "name": "stdout",
     "output_type": "stream",
     "text": [
      "1001000000\n",
      "1,001,000,000\n"
     ]
    }
   ],
   "source": [
    "num1 = 1_000_000_000\n",
    "num2 = 1_000_000\n",
    "\n",
    "total = num1 + num2\n",
    "print(total)\n",
    "\n",
    "# using str formatting as an option\n",
    "print(f'{total:,}')"
   ]
  },
  {
   "cell_type": "markdown",
   "metadata": {},
   "source": [
    "3) Context managers \n",
    "- Anytime you have to open and close a file, you can use a context manager to manage your resources "
   ]
  },
  {
   "cell_type": "code",
   "execution_count": null,
   "metadata": {},
   "outputs": [],
   "source": [
    "with open('test.txt', 'r') as f:\n",
    "    file_contents = f.read()\n",
    "    \n"
   ]
  },
  {
   "cell_type": "markdown",
   "metadata": {},
   "source": [
    "4) Enumerate when you need a counter when looping over something \n",
    "- Particularly useful when looping over a list "
   ]
  },
  {
   "cell_type": "code",
   "execution_count": 7,
   "metadata": {},
   "outputs": [
    {
     "name": "stdout",
     "output_type": "stream",
     "text": [
      "0 Corey\n",
      "1 Chris\n",
      "2 Dave\n",
      "3 Travis\n"
     ]
    }
   ],
   "source": [
    "# not very clean method\n",
    "names = ['Corey', 'Chris', 'Dave', 'Travis'] \n",
    "\n",
    "idx = 0 \n",
    "for name in names: \n",
    "    print(idx, name)\n",
    "    idx += 1\n",
    "    "
   ]
  },
  {
   "cell_type": "code",
   "execution_count": 8,
   "metadata": {},
   "outputs": [
    {
     "name": "stdout",
     "output_type": "stream",
     "text": [
      "0 Corey\n",
      "1 Chris\n",
      "2 Dave\n",
      "3 Travis\n"
     ]
    }
   ],
   "source": [
    "names = ['Corey', 'Chris', 'Dave', 'Travis'] \n",
    "\n",
    "for idx, name in enumerate(names):\n",
    "    print(idx, name)"
   ]
  },
  {
   "cell_type": "markdown",
   "metadata": {},
   "source": [
    "5) Using zip to group two lists together \n",
    "- More efficient looping with k, v pairs or more "
   ]
  },
  {
   "cell_type": "code",
   "execution_count": 14,
   "metadata": {},
   "outputs": [
    {
     "name": "stdout",
     "output_type": "stream",
     "text": [
      "Peter Parker is actually Spiderman from Marvel.\n",
      "Clark Kent is actually Superman from DC.\n",
      "Wade Wilson is actually Deadpool from Marvel.\n",
      "Bruce Wayne is actually Batman from DC.\n"
     ]
    }
   ],
   "source": [
    "names = ['Peter Parker', 'Clark Kent', 'Wade Wilson', 'Bruce Wayne']\n",
    "heroes = ['Spiderman', 'Superman', 'Deadpool', 'Batman']\n",
    "universe = ['Marvel', 'DC', 'Marvel', 'DC']\n",
    "\n",
    "for name, hero, uni in zip(names, heroes, universe): \n",
    "    print(f'{name} is actually {hero} from {uni}.')\n",
    "    \n",
    "# if lists are of different lengths, zip_longest might be an option "
   ]
  },
  {
   "cell_type": "markdown",
   "metadata": {},
   "source": [
    "6) Unpacking "
   ]
  },
  {
   "cell_type": "code",
   "execution_count": 18,
   "metadata": {},
   "outputs": [
    {
     "name": "stdout",
     "output_type": "stream",
     "text": [
      "1\n",
      "2\n",
      "1\n",
      "2\n",
      "1\n",
      "2\n",
      "3 4 5 6\n",
      "1\n",
      "2\n",
      "3 4 5 6\n",
      "7\n"
     ]
    }
   ],
   "source": [
    "# unpacking a group of values into different variables \n",
    "a, b = (1, 2)\n",
    "print(a) \n",
    "print(b)\n",
    "\n",
    "# convention to use _ when unpacking a variable that we are not planning to use\n",
    "a, _ = (1, 2)\n",
    "print(a)\n",
    "print(_)\n",
    "\n",
    "# unpacking multiple values when the variables are less than the values \n",
    "a, b, *_ = (1,2,3,4,5,6)\n",
    "print(a)\n",
    "print(b)\n",
    "print(*_)\n",
    "\n",
    "# another example when unpacking the last value is needed \n",
    "a, b, *_, d = (1,2,3,4,5,6,7)\n",
    "print(a)\n",
    "print(b)\n",
    "print(*_)\n",
    "print(d)"
   ]
  },
  {
   "cell_type": "markdown",
   "metadata": {},
   "source": [
    "7) Getting and setting attributes on objects "
   ]
  },
  {
   "cell_type": "code",
   "execution_count": 20,
   "metadata": {},
   "outputs": [
    {
     "name": "stdout",
     "output_type": "stream",
     "text": [
      "Clarence\n"
     ]
    }
   ],
   "source": [
    "class Person(object): \n",
    "    pass\n",
    "\n",
    "person = Person()\n",
    "\n",
    "# right now the person object doesn't have any attributes \n",
    "# we can add them dynamically \n",
    "person.first = 'Clarence'\n",
    "person.last = 'San'\n",
    "\n",
    "print(person.first)"
   ]
  },
  {
   "cell_type": "code",
   "execution_count": 24,
   "metadata": {
    "collapsed": true
   },
   "outputs": [
    {
     "name": "stdout",
     "output_type": "stream",
     "text": [
      "Clarence_setattr\n",
      "Clarence\n"
     ]
    }
   ],
   "source": [
    "first_key = 'first'\n",
    "first_val = 'Clarence'\n",
    "\n",
    "# setting attributes using the setattr\n",
    "setattr(person, 'first', 'Clarence_setattr')\n",
    "print(person.first)\n",
    "\n",
    "# setattr allows for setting using variables \n",
    "setattr(person, first_key, first_val)\n",
    "\n",
    "# getting the attr back \n",
    "first = getattr(person, first_key) \n",
    "print(first)"
   ]
  },
  {
   "cell_type": "code",
   "execution_count": 29,
   "metadata": {},
   "outputs": [
    {
     "name": "stdout",
     "output_type": "stream",
     "text": [
      "Clarence\n",
      "San\n",
      "26\n",
      "Clarence\n",
      "San\n",
      "26\n"
     ]
    }
   ],
   "source": [
    "# use case: setting and getting attributes from a dict of k,v pairs\n",
    "\n",
    "person_info = {'first':'Clarence', 'last':'San', 'age': 26}\n",
    "\n",
    "for k,v in person_info.items():\n",
    "    setattr(person, k, v)\n",
    "\n",
    "print(person.first)\n",
    "print(person.last)\n",
    "print(person.age)\n",
    "\n",
    "# accessing all the attributes in an object\n",
    "for k in person_info.keys():\n",
    "    print(getattr(person, k))\n"
   ]
  },
  {
   "cell_type": "markdown",
   "metadata": {},
   "source": [
    "8) GetPass \n",
    "- Hides the user input "
   ]
  },
  {
   "cell_type": "code",
   "execution_count": 32,
   "metadata": {},
   "outputs": [
    {
     "name": "stdout",
     "output_type": "stream",
     "text": [
      "Username: \n",
      "Password: ········\n"
     ]
    }
   ],
   "source": [
    "from getpass import getpass\n",
    "username = input('Username: ')\n",
    "password = getpass('Password: ')\n",
    "# this hides the password from being visible "
   ]
  },
  {
   "cell_type": "markdown",
   "metadata": {},
   "source": [
    "9) Python dash m\n",
    "\n",
    "Most useful on the command line \n",
    "- -m: modulename > searches the sys.path for the module name and opens it "
   ]
  },
  {
   "cell_type": "markdown",
   "metadata": {},
   "source": [
    "10) Help / Dir\n",
    "- Learn more about different packages \n",
    "- on the command line > type help(packagename)"
   ]
  },
  {
   "cell_type": "markdown",
   "metadata": {},
   "source": [
    "### 5 most common Python mistakes and how to fix them \n"
   ]
  },
  {
   "cell_type": "markdown",
   "metadata": {},
   "source": [
    "1) Identation and spaces\n",
    "- Error msg: IndentationError: unindent does not match any outer indentation level\n",
    "\n",
    "Solution: \n",
    "Set up python IDE by changing your settings of translate_tabs_to_spaces to True"
   ]
  },
  {
   "cell_type": "markdown",
   "metadata": {},
   "source": [
    "2) Naming conflicts\n",
    "- Error msg: ImportError: cannot import name from {module}\n",
    "\n",
    "- Be careful when naming .py projects, as the system might try to import from the module instead of the standard library \n",
    "\n"
   ]
  },
  {
   "cell_type": "code",
   "execution_count": 33,
   "metadata": {},
   "outputs": [
    {
     "name": "stdout",
     "output_type": "stream",
     "text": [
      "1.0\n"
     ]
    }
   ],
   "source": [
    "# saving the file as math would cause the ImportError\n",
    "from math import radians, sin \n",
    "\n",
    "rads = radians(90) \n",
    "print(sin(rads))"
   ]
  },
  {
   "cell_type": "code",
   "execution_count": 36,
   "metadata": {
    "collapsed": true
   },
   "outputs": [
    {
     "name": "stdout",
     "output_type": "stream",
     "text": [
      "1.0\n"
     ]
    },
    {
     "ename": "TypeError",
     "evalue": "'float' object is not callable",
     "output_type": "error",
     "traceback": [
      "\u001b[1;31m---------------------------------------------------------------------------\u001b[0m",
      "\u001b[1;31mTypeError\u001b[0m                                 Traceback (most recent call last)",
      "\u001b[1;32m<ipython-input-36-8ba92ebe19a6>\u001b[0m in \u001b[0;36m<module>\u001b[1;34m\u001b[0m\n\u001b[0;32m      6\u001b[0m \u001b[1;33m\u001b[0m\u001b[0m\n\u001b[0;32m      7\u001b[0m \u001b[1;31m# from here any radians call uses the assignment instead of the function\u001b[0m\u001b[1;33m\u001b[0m\u001b[1;33m\u001b[0m\u001b[1;33m\u001b[0m\u001b[0m\n\u001b[1;32m----> 8\u001b[1;33m \u001b[0mrad45\u001b[0m \u001b[1;33m=\u001b[0m \u001b[0mradians\u001b[0m\u001b[1;33m(\u001b[0m\u001b[1;36m45\u001b[0m\u001b[1;33m)\u001b[0m\u001b[1;33m\u001b[0m\u001b[1;33m\u001b[0m\u001b[0m\n\u001b[0m\u001b[0;32m      9\u001b[0m \u001b[0mprint\u001b[0m\u001b[1;33m(\u001b[0m\u001b[0mrad45\u001b[0m\u001b[1;33m)\u001b[0m\u001b[1;33m\u001b[0m\u001b[1;33m\u001b[0m\u001b[0m\n\u001b[0;32m     10\u001b[0m \u001b[1;31m# TypeError: float object is not callable\u001b[0m\u001b[1;33m\u001b[0m\u001b[1;33m\u001b[0m\u001b[1;33m\u001b[0m\u001b[0m\n",
      "\u001b[1;31mTypeError\u001b[0m: 'float' object is not callable"
     ]
    }
   ],
   "source": [
    "# saving the variable names as the function name will also lead to naming conflicts\n",
    "from math import radians, sin\n",
    "\n",
    "radians = radians(90)\n",
    "print(sin(radians))\n",
    "\n",
    "# from here any radians call uses the assignment instead of the function\n",
    "rad45 = radians(45)\n",
    "print(rad45)\n",
    "# TypeError: float object is not callable"
   ]
  },
  {
   "cell_type": "markdown",
   "metadata": {},
   "source": [
    "3) Mutable default args "
   ]
  },
  {
   "cell_type": "code",
   "execution_count": 41,
   "metadata": {
    "collapsed": true
   },
   "outputs": [
    {
     "name": "stdout",
     "output_type": "stream",
     "text": [
      "['John', 'Jane', 'Clarence']\n",
      "['Corey']\n",
      "['Corey', 'John']\n",
      "['Corey', 'John', 'Jane']\n",
      "['New']\n",
      "['Works correctly']\n"
     ]
    }
   ],
   "source": [
    "def add_employee(emp, emp_list = []):\n",
    "    '''adds a name to an emp_list'''\n",
    "    emp_list.append(emp)\n",
    "    print(emp_list)\n",
    "    \n",
    "emps = ['John', 'Jane'] \n",
    "# this seems fine  \n",
    "add_employee('Clarence', emps)\n",
    "\n",
    "# undesired effect of appending the list \n",
    "add_employee('Corey')\n",
    "add_employee('John')\n",
    "add_employee('Jane')\n",
    "\n",
    "# reason being is because default arguments are only evaluated once when the function is defined\n",
    "\n",
    "# solution is to not set a mutable default arg\n",
    "def add_employee(emp, emp_list = None):\n",
    "    if emp_list is None: \n",
    "        emp_list = []\n",
    "    emp_list.append(emp)\n",
    "    print(emp_list)\n",
    "    \n",
    "add_employee('New')\n",
    "add_employee('Works correctly')"
   ]
  },
  {
   "cell_type": "code",
   "execution_count": 43,
   "metadata": {
    "collapsed": true
   },
   "outputs": [
    {
     "name": "stdout",
     "output_type": "stream",
     "text": [
      "October 30, 2020 13:34:46\n",
      "October 30, 2020 13:34:46\n",
      "October 30, 2020 13:34:46\n",
      "October 30, 2020 13:34:48\n",
      "October 30, 2020 13:34:49\n",
      "October 30, 2020 13:34:50\n"
     ]
    }
   ],
   "source": [
    "import time\n",
    "from datetime import datetime\n",
    "\n",
    "def display_time(time = datetime.now()): \n",
    "    print(time.strftime('%B %d, %Y %H:%M:%S'))\n",
    "    \n",
    "# results in the same output because datetime.now() is evaluated once \n",
    "display_time()\n",
    "time.sleep(1)\n",
    "display_time()\n",
    "time.sleep(1)\n",
    "display_time()\n",
    "\n",
    "\n",
    "# solution: again, make the default arg immutable \n",
    "def display_time(time = None):\n",
    "    if time is None:\n",
    "        time = datetime.now()\n",
    "    print(time.strftime('%B %d, %Y %H:%M:%S'))\n",
    "\n",
    "display_time()\n",
    "time.sleep(1)\n",
    "display_time()\n",
    "time.sleep(1)\n",
    "display_time()"
   ]
  },
  {
   "cell_type": "markdown",
   "metadata": {},
   "source": [
    "4) Exhausting iterators \n",
    "- Python contains many different generators"
   ]
  },
  {
   "cell_type": "code",
   "execution_count": 47,
   "metadata": {},
   "outputs": [
    {
     "name": "stdout",
     "output_type": "stream",
     "text": [
      "[('Peter Parker', 'Spiderman'), ('Clark Kent', 'Superman'), ('Wade Wilson', 'Deadpool'), ('Bruce Wayne', 'Batman')]\n"
     ]
    }
   ],
   "source": [
    "names = ['Peter Parker', 'Clark Kent', 'Wade Wilson', 'Bruce Wayne']\n",
    "heroes = ['Spiderman', 'Superman', 'Deadpool', 'Batman']\n",
    "\n",
    "identities = zip(names, heroes)\n",
    "\n",
    "print(list(identities))\n",
    "# zip object at ...\n",
    "# solution: pass generators into a list \n",
    "# BUT \n",
    "\n",
    "# this can't be run now \n",
    "for identity in identities: \n",
    "    print(f'{identity[0]} is actually {identity[1]}!')"
   ]
  },
  {
   "cell_type": "code",
   "execution_count": 48,
   "metadata": {},
   "outputs": [
    {
     "name": "stdout",
     "output_type": "stream",
     "text": [
      "[('Peter Parker', 'Spiderman'), ('Clark Kent', 'Superman'), ('Wade Wilson', 'Deadpool'), ('Bruce Wayne', 'Batman')]\n",
      "Peter Parker is actually Spiderman!\n",
      "Clark Kent is actually Superman!\n",
      "Wade Wilson is actually Deadpool!\n",
      "Bruce Wayne is actually Batman!\n"
     ]
    }
   ],
   "source": [
    "# reason being that iterators can be exhausted: their values can be looped through and \n",
    "# accessed one time only \n",
    "\n",
    "# solution is to cast the iterator to a list from the start \n",
    "names = ['Peter Parker', 'Clark Kent', 'Wade Wilson', 'Bruce Wayne']\n",
    "heroes = ['Spiderman', 'Superman', 'Deadpool', 'Batman']\n",
    "\n",
    "identities = list(zip(names, heroes))\n",
    "\n",
    "print(identities)\n",
    "\n",
    "for identity in identities: \n",
    "    print(f'{identity[0]} is actually {identity[1]}!')"
   ]
  },
  {
   "cell_type": "markdown",
   "metadata": {},
   "source": [
    "5) Importing with * \n",
    "- This is a bad practice as it makes the code difficult to debug"
   ]
  },
  {
   "cell_type": "code",
   "execution_count": null,
   "metadata": {},
   "outputs": [],
   "source": [
    "from os import * \n",
    "rename(filename) # where is this rename coming from?"
   ]
  },
  {
   "cell_type": "code",
   "execution_count": 49,
   "metadata": {},
   "outputs": [
    {
     "name": "stdout",
     "output_type": "stream",
     "text": [
      "Help on function escape in module glob:\n",
      "\n",
      "escape(pathname)\n",
      "    Escape all special characters.\n",
      "\n",
      "None\n"
     ]
    }
   ],
   "source": [
    "# allows for potential conflicts \n",
    "from html import * \n",
    "from glob import * \n",
    "\n",
    "# both have an escape function, but glob overrides the escape function from html \n",
    "print(help(escape))"
   ]
  },
  {
   "cell_type": "code",
   "execution_count": 50,
   "metadata": {},
   "outputs": [],
   "source": [
    "# best practice is to explicitly specify or to import the entire package\n",
    "from html import escape as h_escape\n",
    "from glob import escape as g_escape"
   ]
  }
 ],
 "metadata": {
  "kernelspec": {
   "display_name": "Python 3",
   "language": "python",
   "name": "python3"
  },
  "language_info": {
   "codemirror_mode": {
    "name": "ipython",
    "version": 3
   },
   "file_extension": ".py",
   "mimetype": "text/x-python",
   "name": "python",
   "nbconvert_exporter": "python",
   "pygments_lexer": "ipython3",
   "version": "3.8.3"
  }
 },
 "nbformat": 4,
 "nbformat_minor": 4
}
