{
 "cells": [
  {
   "cell_type": "markdown",
   "metadata": {},
   "source": [
    "#### Python Tips and Tricks \n",
    "\n",
    "A collection of useful tips to adopt when coding in Python. The goal is to keep a record of features to improve the code quality in a Data Science context"
   ]
  },
  {
   "cell_type": "markdown",
   "metadata": {},
   "source": [
    "<a id=\"toc\"></a>\n",
    "#### Table of Contents\n",
    "\n",
    "1. [Ternary Conditionals](#ternary)\n",
    "2. [Underscore Large Values](#underscores)\n",
    "3. [F-strings](#fstring)\n",
    "4. [Enumeration](#enum)\n",
    "5. [Zipping](#zip)\n",
    "6. [Multiple variables](#unpacking)\n",
    "7. [Object Attributes](#attr)\n",
    "8. [Getpass](#getpass)\n",
    "9. [Help](#help)\n",
    "10. [Importing](#importing)\n",
    "11. [Comparison chaining](#chaining)\n",
    "12. [List comprehension](#listcomp)"
   ]
  },
  {
   "cell_type": "markdown",
   "metadata": {},
   "source": [
    "<a id = 'ternary'></a>\n",
    "\n",
    "#### 1. Ternary conditionals \n",
    "\n",
    "A ternary operator (also known as conditional expressions in Python) evaluate something based on the boolean value of a condition \n",
    "\n",
    "[back](#toc)"
   ]
  },
  {
   "cell_type": "markdown",
   "metadata": {},
   "source": [
    "#### Regular ternary syntax\n",
    "\n",
    "The longhand version involves a writing an if-else statement. We can achieve the same result using a more \"Pythonic\" syntax"
   ]
  },
  {
   "cell_type": "code",
   "execution_count": 9,
   "metadata": {},
   "outputs": [
    {
     "name": "stdout",
     "output_type": "stream",
     "text": [
      "X value: 0\n"
     ]
    }
   ],
   "source": [
    "condition = False \n",
    "\n",
    "if condition: \n",
    "    x = 1\n",
    "else: \n",
    "    x = 0\n",
    "\n",
    "print(f'X value: {x}') \n",
    "# This can be retyped to be more Pythonic"
   ]
  },
  {
   "cell_type": "markdown",
   "metadata": {},
   "source": [
    "#### Blueprint for regular ternary\n",
    "value_if_true **if** condition **else** value_if_false"
   ]
  },
  {
   "cell_type": "code",
   "execution_count": 3,
   "metadata": {},
   "outputs": [
    {
     "data": {
      "text/plain": [
       "0"
      ]
     },
     "execution_count": 3,
     "metadata": {},
     "output_type": "execute_result"
    }
   ],
   "source": [
    "condition = False\n",
    "x = 1 if condition else 0 \n",
    "\n",
    "print(f'X value: {x}')"
   ]
  },
  {
   "cell_type": "markdown",
   "metadata": {},
   "source": [
    "#### Blueprint for shorthand ternary \n",
    "Another way to write a ternary operator: \n",
    "condition **or** alternative_output"
   ]
  },
  {
   "cell_type": "code",
   "execution_count": 10,
   "metadata": {},
   "outputs": [
    {
     "name": "stdout",
     "output_type": "stream",
     "text": [
      "True\n",
      "Alternative\n"
     ]
    }
   ],
   "source": [
    "# Evaluation examples: helpful when you want to check the output of a function \n",
    "print(True or 'Alternative')\n",
    "print(False or 'Alternative')"
   ]
  },
  {
   "cell_type": "code",
   "execution_count": 11,
   "metadata": {},
   "outputs": [
    {
     "name": "stdout",
     "output_type": "stream",
     "text": [
      "No output\n"
     ]
    }
   ],
   "source": [
    "# Define function example \n",
    "def output(): return None \n",
    "\n",
    "# Evalute the output; if no output, return string 'No output'\n",
    "output = output() or 'No output'\n",
    "\n",
    "print(output)"
   ]
  },
  {
   "cell_type": "markdown",
   "metadata": {},
   "source": [
    "<a id = 'underscores'></a>\n",
    "\n",
    "#### 2. Underscore large numbers\n",
    "\n",
    "We can add in underscores as separators When dealing with large numbers to make them easier to read\n",
    "\n",
    "[back](#toc)"
   ]
  },
  {
   "cell_type": "code",
   "execution_count": 3,
   "metadata": {},
   "outputs": [
    {
     "name": "stdout",
     "output_type": "stream",
     "text": [
      "Standard output: 1001000000\n",
      "Output with formatting: 1,001,000,000\n"
     ]
    }
   ],
   "source": [
    "# one billion and one million example\n",
    "num1 = 1_000_000_000\n",
    "num2 = 1_000_000\n",
    "\n",
    "# result will be printed without any separators\n",
    "total = num1 + num2\n",
    "print(f'Standard output: {total}')\n",
    "\n",
    "# use str formatting to add comma separators to the final output\n",
    "print(f'Output with formatting: {total:,}')"
   ]
  },
  {
   "cell_type": "markdown",
   "metadata": {},
   "source": [
    "<a id = 'fstring'></a>\n",
    "\n",
    "#### 3. Using f-strings as string formatting outputs\n",
    "\n",
    "f-strings are a new update in Python 3.6: they are an improvement over .format() as they are more readable and computationally efficient than .format()\n",
    "\n",
    "[back](#toc)\n"
   ]
  },
  {
   "cell_type": "code",
   "execution_count": 5,
   "metadata": {},
   "outputs": [
    {
     "name": "stdout",
     "output_type": "stream",
     "text": [
      "Test number 5 result: result\n",
      "Test number 5 result: result\n"
     ]
    }
   ],
   "source": [
    "# instantiate test number and result \n",
    "test_no = 5\n",
    "result = 'result'\n",
    "\n",
    "# string formatting using format\n",
    "print('Test number {test} result: {res}'.format(test=test_no, res=result))\n",
    "\n",
    "# f-strings are easier to read\n",
    "print(f'Test number {test_no} result: {result}')"
   ]
  },
  {
   "cell_type": "markdown",
   "metadata": {},
   "source": [
    "<a id = 'enum'></a>\n",
    "\n",
    "#### 4. Enumeration \n",
    "\n",
    "Useful application of enumeration is to count the iterations of a loop. It is particularly useful when looping over a list\n",
    "\n",
    "[back](#toc)"
   ]
  },
  {
   "cell_type": "code",
   "execution_count": 6,
   "metadata": {},
   "outputs": [
    {
     "name": "stdout",
     "output_type": "stream",
     "text": [
      "0 Adam\n",
      "1 Ben\n",
      "2 Cole\n",
      "3 Dan\n",
      "0 Adam\n",
      "1 Ben\n",
      "2 Cole\n",
      "3 Dan\n"
     ]
    }
   ],
   "source": [
    "# using a counter is a less Pythonic method \n",
    "names = ['Adam', 'Ben', 'Cole', 'Dan'] \n",
    "\n",
    "idx = 0 \n",
    "for name in names: \n",
    "    print(idx, name)\n",
    "    idx += 1\n",
    "\n",
    "# shorter and clearer\n",
    "for idx, name in enumerate(names): \n",
    "    print(idx, name)    "
   ]
  },
  {
   "cell_type": "code",
   "execution_count": 9,
   "metadata": {},
   "outputs": [
    {
     "data": {
      "text/plain": [
       "[(0, 'Adam'), (1, 'Ben'), (2, 'Cole'), (3, 'Dan')]"
      ]
     },
     "execution_count": 9,
     "metadata": {},
     "output_type": "execute_result"
    }
   ],
   "source": [
    "# add an index to a list\n",
    "list(enumerate(names))"
   ]
  },
  {
   "cell_type": "markdown",
   "metadata": {},
   "source": [
    "<a id = 'zip'></a>\n",
    "\n",
    "#### 5) Using zip for multiple iterations\n",
    "\n",
    "Zip is useful to iterate over multiple lists. It is a more efficient way to iterate over k, v pairs compared to for-loops\n",
    "\n",
    "[back](#toc)"
   ]
  },
  {
   "cell_type": "code",
   "execution_count": 10,
   "metadata": {},
   "outputs": [
    {
     "name": "stdout",
     "output_type": "stream",
     "text": [
      "The capital of China is Beijing.\n",
      "The capital of Korea is Seoul.\n",
      "The capital of Japan is Tokyo.\n",
      "The capital of Russia is Moscow.\n"
     ]
    }
   ],
   "source": [
    "# zipping and iterating over 2 lists\n",
    "country = ['China', 'Korea', 'Japan', 'Russia']\n",
    "capital = ['Beijing', 'Seoul', 'Tokyo', 'Moscow']\n",
    "\n",
    "for country, capital in zip(country, capital): \n",
    "    print(f'The capital of {country} is {capital}.')"
   ]
  },
  {
   "cell_type": "markdown",
   "metadata": {},
   "source": [
    "<a id = 'unpacking'></a>\n",
    "\n",
    "#### 6) Multiple variable assignment / unpacking\n",
    "\n",
    "We can assign and unpack multiple variables in a single line of code\n",
    "\n",
    "[back](#toc)"
   ]
  },
  {
   "cell_type": "code",
   "execution_count": 67,
   "metadata": {},
   "outputs": [
    {
     "name": "stdout",
     "output_type": "stream",
     "text": [
      "a: 1, b: 2\n",
      "a: 1, _: 2\n",
      "a: 1, b: 2, rest: [3, 4, 5, 6]\n"
     ]
    }
   ],
   "source": [
    "# assigning multiple values into different variables in a single line of code\n",
    "a, b = 1, 2\n",
    "print(f'a: {a}, b: {b}') \n",
    "\n",
    "# convention to use _ when unpacking a variable that we are not planning to use\n",
    "a, _ = (1, 2)\n",
    "print(f'a: {a}, _: {_}')\n",
    "\n",
    "# unpacking multiple values when the variables are less than the values \n",
    "a, b, *_ = (1,2,3,4,5,6)\n",
    "print(f'a: {a}, b: {b}, rest: {_}')"
   ]
  },
  {
   "cell_type": "markdown",
   "metadata": {},
   "source": [
    "<a id = 'attr'></a>\n",
    "\n",
    "#### 7) Objects: Getting and setting attributes \n",
    "\n",
    "We can dynamically add attributes to classes. Classes are object constructors, or \"blueprints\" for creating objects\n",
    "\n",
    "[back](#toc)"
   ]
  },
  {
   "cell_type": "code",
   "execution_count": 31,
   "metadata": {},
   "outputs": [
    {
     "name": "stdout",
     "output_type": "stream",
     "text": [
      "Clarence\n"
     ]
    }
   ],
   "source": [
    "# Define a class Person \n",
    "class Person(object): \n",
    "    pass\n",
    "\n",
    "# Instantiate an object from the class \n",
    "person = Person()\n",
    "\n",
    "# right now the person object doesn't have any attributes \n",
    "person.first = 'Clarence'\n",
    "person.last = 'San'\n",
    "\n",
    "print(person.first)"
   ]
  },
  {
   "cell_type": "code",
   "execution_count": 34,
   "metadata": {},
   "outputs": [
    {
     "name": "stdout",
     "output_type": "stream",
     "text": [
      "Clarence_setattr_ex\n",
      "Clarence\n",
      "Clarence\n"
     ]
    }
   ],
   "source": [
    "# what happens if the attribute we want to set is the value of another variable? \n",
    "first_key = 'first'\n",
    "first_val = 'Clarence'\n",
    "\n",
    "# setting attributes using the setattr: specify the object, attribute, and value\n",
    "setattr(person, 'first', 'Clarence_setattr_ex')\n",
    "print(person.first)\n",
    "\n",
    "# setattr allows for setting using variables \n",
    "setattr(person, first_key, first_val)\n",
    "print(person.first)\n",
    "\n",
    "# getting the attr back \n",
    "first = getattr(person, first_key) \n",
    "print(first)"
   ]
  },
  {
   "cell_type": "markdown",
   "metadata": {},
   "source": [
    "A useful application involves setting and getting attributes from a dict of k, v pairs"
   ]
  },
  {
   "cell_type": "code",
   "execution_count": 36,
   "metadata": {},
   "outputs": [
    {
     "name": "stdout",
     "output_type": "stream",
     "text": [
      "Clarence\n",
      "San\n",
      "25\n",
      "Clarence\n",
      "San\n",
      "25\n"
     ]
    }
   ],
   "source": [
    "# Instantiate the dictionary of attribute names and their values\n",
    "person_info = {'first':'Clarence', 'last':'San', 'age': 25}\n",
    "\n",
    "# set attributes for person object \n",
    "for k,v in person_info.items():\n",
    "    setattr(person, k, v)\n",
    "\n",
    "print(person.first)\n",
    "print(person.last)\n",
    "print(person.age)\n",
    "\n",
    "# accessing all the attributes in an object\n",
    "for k in person_info.keys():\n",
    "    print(getattr(person, k))"
   ]
  },
  {
   "cell_type": "markdown",
   "metadata": {},
   "source": [
    "<a id = 'getpass'></a>\n",
    "\n",
    "#### 8) GetPass \n",
    "\n",
    "Hides the user input when entering sensitive information \n",
    "\n",
    "[back](#toc)"
   ]
  },
  {
   "cell_type": "code",
   "execution_count": 32,
   "metadata": {},
   "outputs": [
    {
     "name": "stdout",
     "output_type": "stream",
     "text": [
      "Username: \n",
      "Password: ········\n"
     ]
    }
   ],
   "source": [
    "from getpass import getpass\n",
    "username = input('Username: ')\n",
    "password = getpass('Password: ')\n",
    "# this hides the password from being visible "
   ]
  },
  {
   "cell_type": "markdown",
   "metadata": {},
   "source": [
    "<a id = 'help'></a>\n",
    "####  9) Help function \n",
    "\n",
    "Use the help function and ? to search for documentation on an object\n",
    "\n",
    "[back](#toc)"
   ]
  },
  {
   "cell_type": "code",
   "execution_count": 38,
   "metadata": {
    "scrolled": true
   },
   "outputs": [
    {
     "name": "stdout",
     "output_type": "stream",
     "text": [
      "Help on function sum in module numpy:\n",
      "\n",
      "sum(a, axis=None, dtype=None, out=None, keepdims=<no value>, initial=<no value>, where=<no value>)\n",
      "    Sum of array elements over a given axis.\n",
      "    \n",
      "    Parameters\n",
      "    ----------\n",
      "    a : array_like\n",
      "        Elements to sum.\n",
      "    axis : None or int or tuple of ints, optional\n",
      "        Axis or axes along which a sum is performed.  The default,\n",
      "        axis=None, will sum all of the elements of the input array.  If\n",
      "        axis is negative it counts from the last to the first axis.\n",
      "    \n",
      "        .. versionadded:: 1.7.0\n",
      "    \n",
      "        If axis is a tuple of ints, a sum is performed on all of the axes\n",
      "        specified in the tuple instead of a single axis or all the axes as\n",
      "        before.\n",
      "    dtype : dtype, optional\n",
      "        The type of the returned array and of the accumulator in which the\n",
      "        elements are summed.  The dtype of `a` is used by default unless `a`\n",
      "        has an integer dtype of less precision than the default platform\n",
      "        integer.  In that case, if `a` is signed then the platform integer\n",
      "        is used while if `a` is unsigned then an unsigned integer of the\n",
      "        same precision as the platform integer is used.\n",
      "    out : ndarray, optional\n",
      "        Alternative output array in which to place the result. It must have\n",
      "        the same shape as the expected output, but the type of the output\n",
      "        values will be cast if necessary.\n",
      "    keepdims : bool, optional\n",
      "        If this is set to True, the axes which are reduced are left\n",
      "        in the result as dimensions with size one. With this option,\n",
      "        the result will broadcast correctly against the input array.\n",
      "    \n",
      "        If the default value is passed, then `keepdims` will not be\n",
      "        passed through to the `sum` method of sub-classes of\n",
      "        `ndarray`, however any non-default value will be.  If the\n",
      "        sub-class' method does not implement `keepdims` any\n",
      "        exceptions will be raised.\n",
      "    initial : scalar, optional\n",
      "        Starting value for the sum. See `~numpy.ufunc.reduce` for details.\n",
      "    \n",
      "        .. versionadded:: 1.15.0\n",
      "    \n",
      "    where : array_like of bool, optional\n",
      "        Elements to include in the sum. See `~numpy.ufunc.reduce` for details.\n",
      "    \n",
      "        .. versionadded:: 1.17.0\n",
      "    \n",
      "    Returns\n",
      "    -------\n",
      "    sum_along_axis : ndarray\n",
      "        An array with the same shape as `a`, with the specified\n",
      "        axis removed.   If `a` is a 0-d array, or if `axis` is None, a scalar\n",
      "        is returned.  If an output array is specified, a reference to\n",
      "        `out` is returned.\n",
      "    \n",
      "    See Also\n",
      "    --------\n",
      "    ndarray.sum : Equivalent method.\n",
      "    \n",
      "    add.reduce : Equivalent functionality of `add`.\n",
      "    \n",
      "    cumsum : Cumulative sum of array elements.\n",
      "    \n",
      "    trapz : Integration of array values using the composite trapezoidal rule.\n",
      "    \n",
      "    mean, average\n",
      "    \n",
      "    Notes\n",
      "    -----\n",
      "    Arithmetic is modular when using integer types, and no error is\n",
      "    raised on overflow.\n",
      "    \n",
      "    The sum of an empty array is the neutral element 0:\n",
      "    \n",
      "    >>> np.sum([])\n",
      "    0.0\n",
      "    \n",
      "    For floating point numbers the numerical precision of sum (and\n",
      "    ``np.add.reduce``) is in general limited by directly adding each number\n",
      "    individually to the result causing rounding errors in every step.\n",
      "    However, often numpy will use a  numerically better approach (partial\n",
      "    pairwise summation) leading to improved precision in many use-cases.\n",
      "    This improved precision is always provided when no ``axis`` is given.\n",
      "    When ``axis`` is given, it will depend on which axis is summed.\n",
      "    Technically, to provide the best speed possible, the improved precision\n",
      "    is only used when the summation is along the fast axis in memory.\n",
      "    Note that the exact precision may vary depending on other parameters.\n",
      "    In contrast to NumPy, Python's ``math.fsum`` function uses a slower but\n",
      "    more precise approach to summation.\n",
      "    Especially when summing a large number of lower precision floating point\n",
      "    numbers, such as ``float32``, numerical errors can become significant.\n",
      "    In such cases it can be advisable to use `dtype=\"float64\"` to use a higher\n",
      "    precision for the output.\n",
      "    \n",
      "    Examples\n",
      "    --------\n",
      "    >>> np.sum([0.5, 1.5])\n",
      "    2.0\n",
      "    >>> np.sum([0.5, 0.7, 0.2, 1.5], dtype=np.int32)\n",
      "    1\n",
      "    >>> np.sum([[0, 1], [0, 5]])\n",
      "    6\n",
      "    >>> np.sum([[0, 1], [0, 5]], axis=0)\n",
      "    array([0, 6])\n",
      "    >>> np.sum([[0, 1], [0, 5]], axis=1)\n",
      "    array([1, 5])\n",
      "    >>> np.sum([[0, 1], [np.nan, 5]], where=[False, True], axis=1)\n",
      "    array([1., 5.])\n",
      "    \n",
      "    If the accumulator is too small, overflow occurs:\n",
      "    \n",
      "    >>> np.ones(128, dtype=np.int8).sum(dtype=np.int8)\n",
      "    -128\n",
      "    \n",
      "    You can also start the sum with a value other than zero:\n",
      "    \n",
      "    >>> np.sum([10], initial=5)\n",
      "    15\n",
      "\n"
     ]
    }
   ],
   "source": [
    "import numpy as np\n",
    "\n",
    "# help outputs in line \n",
    "help(np.sum)"
   ]
  },
  {
   "cell_type": "code",
   "execution_count": 41,
   "metadata": {
    "scrolled": true
   },
   "outputs": [
    {
     "data": {
      "text/plain": [
       "['__annotations__',\n",
       " '__call__',\n",
       " '__class__',\n",
       " '__closure__',\n",
       " '__code__',\n",
       " '__defaults__',\n",
       " '__delattr__',\n",
       " '__dict__',\n",
       " '__dir__',\n",
       " '__doc__',\n",
       " '__eq__',\n",
       " '__format__',\n",
       " '__ge__',\n",
       " '__get__',\n",
       " '__getattribute__',\n",
       " '__globals__',\n",
       " '__gt__',\n",
       " '__hash__',\n",
       " '__init__',\n",
       " '__init_subclass__',\n",
       " '__kwdefaults__',\n",
       " '__le__',\n",
       " '__lt__',\n",
       " '__module__',\n",
       " '__name__',\n",
       " '__ne__',\n",
       " '__new__',\n",
       " '__qualname__',\n",
       " '__reduce__',\n",
       " '__reduce_ex__',\n",
       " '__repr__',\n",
       " '__setattr__',\n",
       " '__sizeof__',\n",
       " '__str__',\n",
       " '__subclasshook__',\n",
       " '__wrapped__',\n",
       " '_implementation']"
      ]
     },
     "execution_count": 41,
     "metadata": {},
     "output_type": "execute_result"
    }
   ],
   "source": [
    "# if you wish to only retrieve the attributes and methods available to the function, use dir()\n",
    "dir(np.sum)"
   ]
  },
  {
   "cell_type": "code",
   "execution_count": 39,
   "metadata": {},
   "outputs": [],
   "source": [
    "# alternative is to use ?argument \n",
    "?np.sum"
   ]
  },
  {
   "cell_type": "markdown",
   "metadata": {},
   "source": [
    "<a id = 'importing'></a>\n",
    "#### 10) Importing with * \n",
    "Generally, it is not advisable to import using * as it could potentially lead to naming conflicts and renders code difficult to debug\n",
    "\n",
    "[back](#toc)"
   ]
  },
  {
   "cell_type": "code",
   "execution_count": null,
   "metadata": {},
   "outputs": [],
   "source": [
    "from os import * \n",
    "rename(filename) # where is this rename coming from?"
   ]
  },
  {
   "cell_type": "code",
   "execution_count": 49,
   "metadata": {},
   "outputs": [
    {
     "name": "stdout",
     "output_type": "stream",
     "text": [
      "Help on function escape in module glob:\n",
      "\n",
      "escape(pathname)\n",
      "    Escape all special characters.\n",
      "\n",
      "None\n"
     ]
    }
   ],
   "source": [
    "# allows for potential conflicts \n",
    "from html import * \n",
    "from glob import * \n",
    "\n",
    "# both have an escape function, but glob overrides the escape function from html \n",
    "print(help(escape))"
   ]
  },
  {
   "cell_type": "code",
   "execution_count": 50,
   "metadata": {},
   "outputs": [],
   "source": [
    "# best practice is to explicitly specify or to import the entire package\n",
    "from html import escape as h_escape\n",
    "from glob import escape as g_escape"
   ]
  },
  {
   "cell_type": "markdown",
   "metadata": {},
   "source": [
    "<a id = 'placeholder'></a>\n",
    "#### 11) Conditional chaining \n",
    "\n",
    "An improvement in code readability is to chain inequality conditionals.\n",
    "\n",
    "[back](#toc)"
   ]
  },
  {
   "cell_type": "code",
   "execution_count": 49,
   "metadata": {},
   "outputs": [
    {
     "name": "stdout",
     "output_type": "stream",
     "text": [
      "medium sized number\n",
      "medium sized number\n"
     ]
    }
   ],
   "source": [
    "a = 15\n",
    "\n",
    "# the standard way to specify conditionals\n",
    "if a < 100 and a > 10: \n",
    "    print('medium sized number')\n",
    "\n",
    "# better readability \n",
    "if 10 < a < 100: \n",
    "    print('medium sized number')"
   ]
  },
  {
   "cell_type": "markdown",
   "metadata": {},
   "source": [
    "<a id = 'listcomp'></a>\n",
    "#### 12) List comprehension \n",
    "\n",
    "A concise, elegant, and readable way of iterating over, defining, or computing lists.\n",
    "\n",
    "[back](#toc)"
   ]
  },
  {
   "cell_type": "code",
   "execution_count": null,
   "metadata": {},
   "outputs": [],
   "source": [
    "# Some examples of list comprehension syntax\n",
    "\n",
    "[output if condition else value for item in group]\n",
    "[f(item) if condition else value for item in items]\n",
    "[item if condition for item in items]\n",
    "[value if condition else value1 if condition1 else value2]"
   ]
  },
  {
   "cell_type": "code",
   "execution_count": 68,
   "metadata": {},
   "outputs": [
    {
     "name": "stdout",
     "output_type": "stream",
     "text": [
      "['this', 'is', 'an', 'example', 'sentence', 'to', 'demonstrate', 'list', 'comprehension']\n",
      "['example', 'sentence', 'demonstrate', 'comprehension']\n",
      "[0, 1, 4, 27, 16, 125, 36, 343, 64, 729]\n",
      "['even', 'odd', 'even', 'odd', 'even', 'odd', 'even', 'odd', 'even', 'odd']\n"
     ]
    }
   ],
   "source": [
    "# list comprehension over a string \n",
    "sentence = 'this is an example sentence to demonstrate list comprehension'\n",
    "sent_list = [word for word in sentence.split()]\n",
    "print(sent_list)\n",
    "\n",
    "# list comprehension with conditional\n",
    "long_words = [word for word in sentence.split() if len(word) > 5]\n",
    "print(long_words)\n",
    "\n",
    "# transforming elements in a list; with if-else condition \n",
    "numbers = list(range(10))\n",
    "# square even numbers, cube odd numbers \n",
    "num_exps = [i**2 if i % 2 == 0 else i ** 3 if i % 2 == 1 else next for i in numbers]\n",
    "print(num_exps)\n",
    "\n",
    "even_odd = ['even' if i % 2 == 0 else 'odd' for i in numbers]\n",
    "print(even_odd)"
   ]
  },
  {
   "cell_type": "code",
   "execution_count": null,
   "metadata": {},
   "outputs": [],
   "source": []
  }
 ],
 "metadata": {
  "kernelspec": {
   "display_name": "Python 3",
   "language": "python",
   "name": "python3"
  },
  "language_info": {
   "codemirror_mode": {
    "name": "ipython",
    "version": 3
   },
   "file_extension": ".py",
   "mimetype": "text/x-python",
   "name": "python",
   "nbconvert_exporter": "python",
   "pygments_lexer": "ipython3",
   "version": "3.8.3"
  }
 },
 "nbformat": 4,
 "nbformat_minor": 4
}
