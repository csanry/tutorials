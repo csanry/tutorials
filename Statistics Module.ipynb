{
 "cells": [
  {
   "cell_type": "code",
   "execution_count": 1,
   "metadata": {},
   "outputs": [],
   "source": [
    "### WIP \n",
    "# basic statistics\n",
    "# probability distributions \n",
    "# pmf / pdf / cdf \n",
    "# sampling \n",
    "# hypothesis testing "
   ]
  },
  {
   "cell_type": "code",
   "execution_count": 2,
   "metadata": {},
   "outputs": [],
   "source": [
    "# packages\n",
    "import math\n",
    "import statistics\n",
    "import numpy as np \n",
    "import pandas as pd\n",
    "import scipy.stats"
   ]
  },
  {
   "cell_type": "code",
   "execution_count": 3,
   "metadata": {},
   "outputs": [
    {
     "data": {
      "text/plain": [
       "[5, 2, 5, 6, 1, 2, 6, 7, 2, 6, 3, 5, 5]"
      ]
     },
     "execution_count": 3,
     "metadata": {},
     "output_type": "execute_result"
    }
   ],
   "source": [
    "ex_list = [5, 2, 5, 6, 1, 2, 6, 7, 2, 6, 3, 5, 5]\n",
    "ex_list"
   ]
  },
  {
   "cell_type": "markdown",
   "metadata": {},
   "source": [
    "Basic statistics "
   ]
  },
  {
   "cell_type": "code",
   "execution_count": 4,
   "metadata": {},
   "outputs": [
    {
     "name": "stdout",
     "output_type": "stream",
     "text": [
      "4.230769230769231 5.0 5 1.88736063790543 3.5621301775147916\n"
     ]
    }
   ],
   "source": [
    "# descriptive stats\n",
    "mean = np.mean(ex_list)\n",
    "median = np.median(ex_list)\n",
    "mode = scipy.stats.mode(ex_list)[0]\n",
    "sd = np.std(ex_list)\n",
    "var = np.var(ex_list)\n",
    "\n",
    "print(mean, median, *mode, sd, var)"
   ]
  }
 ],
 "metadata": {
  "kernelspec": {
   "display_name": "Python 3",
   "language": "python",
   "name": "python3"
  },
  "language_info": {
   "codemirror_mode": {
    "name": "ipython",
    "version": 3
   },
   "file_extension": ".py",
   "mimetype": "text/x-python",
   "name": "python",
   "nbconvert_exporter": "python",
   "pygments_lexer": "ipython3",
   "version": "3.8.3"
  }
 },
 "nbformat": 4,
 "nbformat_minor": 4
}
