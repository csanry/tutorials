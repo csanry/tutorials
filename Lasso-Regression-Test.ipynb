{
 "cells": [
  {
   "cell_type": "code",
   "execution_count": 79,
   "id": "1767b514",
   "metadata": {},
   "outputs": [],
   "source": [
    "import os\n",
    "os.getcwd()\n",
    "\n",
    "import pandas as pd\n",
    "import numpy as np \n",
    "from sklearn.linear_model import LinearRegression, Lasso\n",
    "from sklearn.preprocessing import StandardScaler\n",
    "\n"
   ]
  },
  {
   "cell_type": "code",
   "execution_count": 131,
   "id": "b38670e2",
   "metadata": {},
   "outputs": [],
   "source": [
    "df = pd.read_csv('C:\\\\Users\\\\sanc\\\\Documents\\\\GitHub\\\\machinelearning\\\\telco_churn_classification\\\\CODE\\\\book1.csv'\n",
    ")"
   ]
  },
  {
   "cell_type": "code",
   "execution_count": 112,
   "id": "f49a40d1",
   "metadata": {},
   "outputs": [
    {
     "data": {
      "text/plain": [
       "Index(['Sales', 'Season', 'WD', 'OOH', 'Plt', 'DPN', 'Active Cases', 'TV_Halo',\n",
       "       'OOH_Halo', 'Platform_Halo', 'Nativead_Halo', 'DisplayNet_Halo'],\n",
       "      dtype='object')"
      ]
     },
     "execution_count": 112,
     "metadata": {},
     "output_type": "execute_result"
    }
   ],
   "source": [
    "df.columns"
   ]
  },
  {
   "cell_type": "code",
   "execution_count": 132,
   "id": "fef65ad1",
   "metadata": {},
   "outputs": [],
   "source": [
    "df['Season'] = df['Season'] * -1\n",
    "df.drop(['Season'], axis = 1, inplace=True)"
   ]
  },
  {
   "cell_type": "code",
   "execution_count": 133,
   "id": "2662a796",
   "metadata": {},
   "outputs": [],
   "source": [
    "ss = StandardScaler()\n",
    "\n",
    "for col in df.columns: \n",
    "    df[col] = pd.to_numeric(df[col], errors = 'raise')\n",
    "    df[col] = ss.fit_transform(df[[col]])"
   ]
  },
  {
   "cell_type": "code",
   "execution_count": 135,
   "id": "2fd835c9",
   "metadata": {},
   "outputs": [],
   "source": [
    "df.head()\n",
    "\n",
    "y = df[['Sales']]\n",
    "X = df.loc[:, 'WD':'DisplayNet_Halo']"
   ]
  },
  {
   "cell_type": "code",
   "execution_count": 138,
   "id": "d3011651",
   "metadata": {},
   "outputs": [
    {
     "name": "stdout",
     "output_type": "stream",
     "text": [
      "R2 0.56\n"
     ]
    },
    {
     "data": {
      "text/html": [
       "<div>\n",
       "<style scoped>\n",
       "    .dataframe tbody tr th:only-of-type {\n",
       "        vertical-align: middle;\n",
       "    }\n",
       "\n",
       "    .dataframe tbody tr th {\n",
       "        vertical-align: top;\n",
       "    }\n",
       "\n",
       "    .dataframe thead th {\n",
       "        text-align: right;\n",
       "    }\n",
       "</style>\n",
       "<table border=\"1\" class=\"dataframe\">\n",
       "  <thead>\n",
       "    <tr style=\"text-align: right;\">\n",
       "      <th></th>\n",
       "      <th>betas</th>\n",
       "      <th>vars</th>\n",
       "    </tr>\n",
       "  </thead>\n",
       "  <tbody>\n",
       "    <tr>\n",
       "      <th>0</th>\n",
       "      <td>0.333787</td>\n",
       "      <td>WD</td>\n",
       "    </tr>\n",
       "    <tr>\n",
       "      <th>1</th>\n",
       "      <td>0.138090</td>\n",
       "      <td>OOH</td>\n",
       "    </tr>\n",
       "    <tr>\n",
       "      <th>2</th>\n",
       "      <td>0.384465</td>\n",
       "      <td>Plt</td>\n",
       "    </tr>\n",
       "    <tr>\n",
       "      <th>3</th>\n",
       "      <td>0.259145</td>\n",
       "      <td>DPN</td>\n",
       "    </tr>\n",
       "    <tr>\n",
       "      <th>4</th>\n",
       "      <td>0.228456</td>\n",
       "      <td>Active Cases</td>\n",
       "    </tr>\n",
       "    <tr>\n",
       "      <th>5</th>\n",
       "      <td>0.000000</td>\n",
       "      <td>TV_Halo</td>\n",
       "    </tr>\n",
       "    <tr>\n",
       "      <th>6</th>\n",
       "      <td>0.247751</td>\n",
       "      <td>OOH_Halo</td>\n",
       "    </tr>\n",
       "    <tr>\n",
       "      <th>7</th>\n",
       "      <td>0.000000</td>\n",
       "      <td>Platform_Halo</td>\n",
       "    </tr>\n",
       "    <tr>\n",
       "      <th>8</th>\n",
       "      <td>0.000000</td>\n",
       "      <td>Nativead_Halo</td>\n",
       "    </tr>\n",
       "    <tr>\n",
       "      <th>9</th>\n",
       "      <td>0.000000</td>\n",
       "      <td>DisplayNet_Halo</td>\n",
       "    </tr>\n",
       "  </tbody>\n",
       "</table>\n",
       "</div>"
      ],
      "text/plain": [
       "      betas             vars\n",
       "0  0.333787               WD\n",
       "1  0.138090              OOH\n",
       "2  0.384465              Plt\n",
       "3  0.259145              DPN\n",
       "4  0.228456     Active Cases\n",
       "5  0.000000          TV_Halo\n",
       "6  0.247751         OOH_Halo\n",
       "7  0.000000    Platform_Halo\n",
       "8  0.000000    Nativead_Halo\n",
       "9  0.000000  DisplayNet_Halo"
      ]
     },
     "execution_count": 138,
     "metadata": {},
     "output_type": "execute_result"
    }
   ],
   "source": [
    "lr = Lasso(positive=True, alpha=0.001)\n",
    "lr.fit(X, y)\n",
    "\n",
    "lr.coef_\n",
    "\n",
    "d = {'betas': lr.coef_.reshape(-1), 'vars': X.columns}\n",
    "fin = pd.DataFrame(d)\n",
    "\n",
    "print(f'R2 {lr.score(X, y):.2f}')\n",
    "\n",
    "fin"
   ]
  },
  {
   "cell_type": "code",
   "execution_count": null,
   "id": "359dc2c8",
   "metadata": {},
   "outputs": [],
   "source": []
  }
 ],
 "metadata": {
  "kernelspec": {
   "display_name": "Python 3",
   "language": "python",
   "name": "python3"
  },
  "language_info": {
   "codemirror_mode": {
    "name": "ipython",
    "version": 3
   },
   "file_extension": ".py",
   "mimetype": "text/x-python",
   "name": "python",
   "nbconvert_exporter": "python",
   "pygments_lexer": "ipython3",
   "version": "3.8.3"
  }
 },
 "nbformat": 4,
 "nbformat_minor": 5
}
